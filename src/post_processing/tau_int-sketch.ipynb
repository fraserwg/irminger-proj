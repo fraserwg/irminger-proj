{
 "cells": [
  {
   "cell_type": "code",
   "execution_count": 3,
   "id": "a80d11d1-822a-49e4-8aaa-65e6557158b3",
   "metadata": {},
   "outputs": [],
   "source": [
    "from pathlib import Path\n",
    "import matplotlib.pyplot as plt\n",
    "from matplotlib import font_manager as fm\n",
    "import numpy as np\n",
    "from scipy.stats import norm"
   ]
  },
  {
   "cell_type": "code",
   "execution_count": 4,
   "id": "beb6a29b-7a9d-4e60-9316-096ed12e1d01",
   "metadata": {},
   "outputs": [],
   "source": [
    "base_path = Path(\"/Users/frasergoldsworth/Projects/irminger-proj\")\n",
    "figure_path = base_path / \"reports\""
   ]
  },
  {
   "cell_type": "code",
   "execution_count": 5,
   "id": "87fc0f4a-0d8d-4ee5-9958-7194514f31bc",
   "metadata": {},
   "outputs": [],
   "source": [
    "fpath = Path(\"/System/Library/Fonts/Supplemental/Arial.ttf\")\n",
    "font_prop = fm.FontProperties(fname=fpath)\n",
    "plt.rcParams['font.family'] = font_prop.get_family()\n",
    "plt.rcParams['font.sans-serif'] = [font_prop.get_name()]\n",
    "\n",
    "plt.rc('xtick', labelsize='8')\n",
    "plt.rc('ytick', labelsize='8')\n",
    "plt.rcParams['axes.titlesize'] = 10\n",
    "plt.rcParams['figure.titlesize'] = 10\n",
    "plt.rcParams[\"figure.labelsize\"] = 8\n",
    "plt.rc(\"text\", usetex=False)"
   ]
  },
  {
   "cell_type": "code",
   "execution_count": 6,
   "id": "a61f8b6d-864d-4776-96a4-11b3f24aa418",
   "metadata": {},
   "outputs": [],
   "source": [
    "time = np.linspace(0, 1, 100)\n",
    "tau_int_long = norm.cdf(time, loc=.5, scale=1e-1)\n",
    "tau_int_short = norm.cdf(time, loc=.5, scale=1e-3)\n"
   ]
  },
  {
   "cell_type": "code",
   "execution_count": 9,
   "id": "de5e3d7e-c6a9-4013-8e0b-21e1763fc764",
   "metadata": {},
   "outputs": [
    {
     "data": {
      "image/png": "[encoded data removed]",
      "text/plain": [
       "<Figure size 400x250 with 1 Axes>"
      ]
     },
     "metadata": {},
     "output_type": "display_data"
    }
   ],
   "source": [
    "fig, ax = plt.subplots(figsize=(4, 2.5))\n",
    "ax.plot(time, tau_int_short, label=\"short event\", c=\"k\", ls=\"-\")\n",
    "ax.plot(time, tau_int_long, label=\"long event\", c=\"k\", ls=\"--\")\n",
    "ax.legend(frameon=False)\n",
    "ax.set_xlabel(\"time\")\n",
    "ax.set_ylabel(\"$\\\\tau_{int}(t)$\")\n",
    "\n",
    "ax.set_xlim(0, 1)\n",
    "ax.set_xticks([0.5])\n",
    "ax.set_xticklabels([\"$t_{mid}$\"])\n",
    "ax.set_yticks([0, 1])\n",
    "ax.set_yticklabels([\"0\", \"$\\\\tau_{int}(\\\\infty)$\"])\n",
    "ax.set_title(\"Integrated wind stress for \\nshort and long wind events\")\n",
    "\n",
    "fig.tight_layout()\n",
    "\n",
    "fig.savefig(figure_path / \"TauInt.pdf\", transparent=True)"
   ]
  },
  {
   "cell_type": "code",
   "execution_count": 111,
   "id": "83d05d70-2429-4f6a-b1ef-889e694fb557",
   "metadata": {},
   "outputs": [
    {
     "data": {
      "text/plain": [
       "37.62626262403715"
      ]
     },
     "execution_count": 111,
     "metadata": {},
     "output_type": "execute_result"
    }
   ],
   "source": [
    "(time * tau_int_short).sum()"
   ]
  },
  {
   "cell_type": "code",
   "execution_count": 78,
   "id": "8bfd9707-10a5-43c3-a695-5e841c06c67b",
   "metadata": {},
   "outputs": [
    {
     "data": {
      "text/plain": [
       "37.13084216792362"
      ]
     },
     "execution_count": 78,
     "metadata": {},
     "output_type": "execute_result"
    }
   ],
   "source": [
    "(time * tau_int_long).sum()"
   ]
  },
  {
   "cell_type": "code",
   "execution_count": null,
   "id": "19bc1a4d-c885-468c-8848-19244b829a11",
   "metadata": {},
   "outputs": [],
   "source": []
  }
 ],
 "metadata": {
  "kernelspec": {
   "display_name": "Python 3 (ipykernel)",
   "language": "python",
   "name": "python3"
  },
  "language_info": {
   "codemirror_mode": {
    "name": "ipython",
    "version": 3
   },
   "file_extension": ".py",
   "mimetype": "text/x-python",
   "name": "python",
   "nbconvert_exporter": "python",
   "pygments_lexer": "ipython3",
   "version": "3.11.3"
  }
 },
 "nbformat": 4,
 "nbformat_minor": 5
}
