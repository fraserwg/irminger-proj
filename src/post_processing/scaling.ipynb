{
 "cells": [
  {
   "cell_type": "code",
   "execution_count": 1,
   "metadata": {},
   "outputs": [
    {
     "name": "stderr",
     "output_type": "stream",
     "text": [
      "23-Feb-23 09:52:21 - Importing standard python libraries\n",
      "23-Feb-23 09:52:21 - Importing third party python libraries\n",
      "23-Feb-23 09:52:22 - Setting paths\n",
      "23-Feb-23 09:52:22 - Setting plotting defaults\n",
      "23-Feb-23 09:52:22 - Opening ensemble\n"
     ]
    }
   ],
   "source": [
    "import logging\n",
    "logging.basicConfig(format='%(asctime)s - %(message)s',\n",
    "                    datefmt='%d-%b-%y %H:%M:%S',\n",
    "                    level=logging.INFO\n",
    "                   )\n",
    "\n",
    "logging.info('Importing standard python libraries')\n",
    "from pathlib import Path\n",
    "\n",
    "logging.info('Importing third party python libraries')\n",
    "import numpy as np\n",
    "import xarray as xr\n",
    "import matplotlib\n",
    "import matplotlib.pyplot as plt\n",
    "import matplotlib.font_manager as fm\n",
    "import cmocean.cm as cmo\n",
    "import cycler\n",
    "from scipy.special import erf  \n",
    "\n",
    "\n",
    "logging.info('Setting paths')\n",
    "base_path = Path('/work/n01/n01/fwg/irminger-proj')\n",
    "raw_path = base_path / 'data/raw'\n",
    "interim_path = base_path / 'data/interim'\n",
    "processed_path = base_path / 'data/processed'\n",
    "figure_path = base_path / 'figures'\n",
    "\n",
    "logging.info('Setting plotting defaults')\n",
    "# fonts\n",
    "fpath = Path('/home/n01/n01/fwg/.local/share/fonts/PTSans-Regular.ttf')\n",
    "if fpath.exists():\n",
    "    font_prop = fm.FontProperties(fname=fpath)\n",
    "    plt.rcParams['font.family'] = font_prop.get_family()\n",
    "    plt.rcParams['font.sans-serif'] = [font_prop.get_name()]\n",
    "\n",
    "# font size\n",
    "matplotlib.use(\"pgf\")\n",
    "plt.rc('xtick', labelsize='8')\n",
    "plt.rc('ytick', labelsize='8')\n",
    "plt.rc('text', usetex=False)\n",
    "plt.rcParams['axes.titlesize'] = 10\n",
    "plt.rcParams[\"text.latex.preamble\"] = \"\\\\usepackage{euler} \\\\usepackage{paratype}  \\\\usepackage{mathfont} \\\\mathfont[digits]{PT Sans}\"\n",
    "plt.rcParams[\"pgf.preamble\"] = plt.rcParams[\"text.latex.preamble\"]\n",
    "plt.rc('text', usetex=False)\n",
    "\n",
    "\n",
    "n = 6\n",
    "color = cmo.dense(np.linspace(0, 1,n))\n",
    "plt.rcParams['axes.prop_cycle'] = cycler.cycler('color', color)\n",
    "\n",
    "# output\n",
    "dpi = 600\n",
    "cm = 1/2.54\n",
    "days = 24 * 60 * 60\n",
    "\n",
    "logging.info(\"Opening ensemble\")\n",
    "ensemble_path = interim_path / \"ensemble.zarr\"\n",
    "mld_path = processed_path / \"mld.zarr\"\n",
    "wmt_path = processed_path / \"enswmt.zarr\"\n",
    "assert mld_path.exists()\n",
    "\n",
    "\n",
    "def select_marker(wind_duration):\n",
    "    if np.allclose(wind_duration, 1.08e5):\n",
    "        marker, colour = \"*\", \"tab:blue\"\n",
    "    elif np.allclose(wind_duration, 2.16e5):\n",
    "        marker, colour = \"o\", \"tab:orange\"\n",
    "    elif np.allclose(wind_duration, 3.24e5):\n",
    "        marker, colour = \"^\", \"tab:green\"\n",
    "    elif np.allclose(wind_duration, 4.32e5):\n",
    "        marker, colour = \"s\", \"tab:red\"\n",
    "    elif np.allclose(wind_duration, 0):\n",
    "        marker, colour = \"D\", \"black\"\n",
    "    else:\n",
    "        raise ValueError(\"wind_duration not as expected\")\n",
    "    return marker, colour\n",
    "\n"
   ]
  },
  {
   "cell_type": "code",
   "execution_count": 26,
   "metadata": {},
   "outputs": [],
   "source": [
    "#%matplotlib ipympl"
   ]
  },
  {
   "cell_type": "code",
   "execution_count": 2,
   "metadata": {},
   "outputs": [],
   "source": [
    "ds_ensemble = xr.open_zarr(ensemble_path)\n",
    "ds_mld = xr.open_zarr(mld_path).squeeze()\n",
    "ds_mld = ds_mld.assign_coords({\"wind_stress\": ds_ensemble[\"wind_stress\"],\n",
    "                                \"wind_duration\": ds_ensemble[\"wind_duration\"]})\n",
    "\n",
    "ds_mld[\"tau_int\"] = np.sqrt(2 * np.pi) \\\n",
    "                    * ds_mld[\"wind_stress\"] * ds_mld[\"wind_duration\"] \\\n",
    "                    * erf(10.5 * days / np.sqrt(2) \\\n",
    "                    / ds_mld[\"wind_duration\"]) * 1e-5\n",
    "\n",
    "delta_mld = ds_mld[\"mn_drop_depth\"].isel(time=0) - ds_mld[\"mn_drop_depth\"].isel(time=-1)\n",
    "\n",
    "fig, axs = plt.subplots(1, 2, figsize=(6, 4.3))\n",
    "ax = axs[0]\n",
    "for run in ds_mld['run']:\n",
    "    marker, colour = select_marker(ds_ensemble[\"wind_duration\"].sel(run=run))\n",
    "    \n",
    "    ax.scatter(-ds_mld[\"tau_int\"].sel(run=run),\n",
    "                delta_mld.sel(run=run),\n",
    "                marker=marker,\n",
    "                color=colour)   \n",
    "\n",
    "ax.ticklabel_format(axis=\"x\", style=\"sci\", scilimits=(0, 0), useMathText=True)\n",
    "\n",
    "ax.scatter(None, None, marker=\"D\", color=\"black\", label=0)\n",
    "ax.scatter(None, None, marker=\"*\", color=\"tab:blue\", label=1.08e5 / days)\n",
    "ax.scatter(None, None, marker=\"o\", color=\"tab:orange\", label=2.16e5 / days)\n",
    "ax.scatter(None, None, marker=\"^\", color=\"tab:green\", label=3.24e5 / days)\n",
    "ax.scatter(None, None, marker=\"s\", color=\"tab:red\", label=4.32e5 / days)\n",
    "ax.legend(title=\"Wind duration (days)\")\n",
    "ax.set_title(\"(a)\", loc=\"left\")\n",
    "\n",
    "ax = axs[1]\n",
    "for run in ds_mld['run']:\n",
    "    marker, colour = select_marker(ds_ensemble[\"wind_duration\"].sel(run=run))\n",
    "    \n",
    "    ax.scatter(-ds_mld[\"tau_int\"].sel(run=run),\n",
    "                delta_mld.sel(run=run),\n",
    "                marker=marker,\n",
    "                color=colour)   \n",
    "\n",
    "ax.ticklabel_format(axis=\"x\", style=\"sci\", scilimits=(0, 0), useMathText=True)\n",
    "\n",
    "\n",
    "ti = np.linspace(0.2, 10)\n",
    "ax.plot(ti, (ti*7000) ** 0.5, c=\"k\", label=\"$\\\\tau_{int}^{0.5}$\")\n",
    "ax.plot(ti, (ti*500) ** 0.54, c=\"k\", ls=\"--\", label=\"$\\\\tau_{int}^{0.54}$\")\n",
    "ax.set_ylim(10, None)\n",
    "\n",
    "ax.set_xscale(\"log\")\n",
    "ax.set_yscale(\"log\")\n",
    "ax.set_title(\"(b)\", loc=\"left\")\n",
    "\n",
    "\n",
    "fig.supxlabel(\"Integrated wind stress ($\\\\times$10$^{5}$ N$\\\\,$s$\\\\,$m$^{-2}$)\", usetex=True)\n",
    "fig.supylabel(\"$\\Delta$ MLD (m)\", usetex=True)\n",
    "\n",
    "fig.suptitle(\"Change in mixed layer depth\")\n",
    "ax.legend()\n",
    "\n",
    "fig.tight_layout()\n",
    "fig.savefig(figure_path / \"DeltaMLD.pdf\")"
   ]
  },
  {
   "cell_type": "code",
   "execution_count": 33,
   "metadata": {},
   "outputs": [],
   "source": [
    "delta_mld[\"tau_int\"] = ds_mld[\"tau_int\"]"
   ]
  },
  {
   "cell_type": "code",
   "execution_count": 51,
   "metadata": {},
   "outputs": [
    {
     "name": "stderr",
     "output_type": "stream",
     "text": [
      "/work/n01/n01/fwg/irminger-proj/irminger-proj/lib/python3.8/site-packages/dask/core.py:119: RuntimeWarning: divide by zero encountered in log\n",
      "  return func(*(_execute_task(a, cache) for a in args))\n"
     ]
    }
   ],
   "source": [
    "x = np.log(-delta_mld[\"tau_int\"]).values[1:]\n",
    "y = np.log(delta_mld).values[1:]"
   ]
  },
  {
   "cell_type": "code",
   "execution_count": 52,
   "metadata": {},
   "outputs": [
    {
     "data": {
      "text/plain": [
       "array([0.53679872, 3.94793563])"
      ]
     },
     "execution_count": 52,
     "metadata": {},
     "output_type": "execute_result"
    }
   ],
   "source": [
    "np.polyfit(x, y, 1)"
   ]
  }
 ],
 "metadata": {
  "kernelspec": {
   "display_name": "Python 3 (ipykernel)",
   "language": "python",
   "name": "python3"
  },
  "language_info": {
   "codemirror_mode": {
    "name": "ipython",
    "version": 3
   },
   "file_extension": ".py",
   "mimetype": "text/x-python",
   "name": "python",
   "nbconvert_exporter": "python",
   "pygments_lexer": "ipython3",
   "version": "3.9.13"
  },
  "vscode": {
   "interpreter": {
    "hash": "441b8a721f432bf94f3d9977bf04ba464ec3fb12bde854fb368a63bed59c50dd"
   }
  }
 },
 "nbformat": 4,
 "nbformat_minor": 4
}
