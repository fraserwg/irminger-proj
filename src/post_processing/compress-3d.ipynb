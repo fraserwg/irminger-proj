{
 "cells": [
  {
   "cell_type": "markdown",
   "id": "fc8b3964-5d1a-4f4e-9468-7c6b6ffa1b81",
   "metadata": {},
   "source": [
    "# compress-3d\n",
    "This notebook will open the 3D model dataset and compress it into a .zarr object."
   ]
  },
  {
   "cell_type": "code",
   "execution_count": 1,
   "id": "2fbbd12a-76d4-4a6f-a4d5-2fd9245664cb",
   "metadata": {
    "tags": []
   },
   "outputs": [],
   "source": [
    "from itertools import product\n",
    "from pathlib import Path\n",
    "import numpy as np\n",
    "import xarray as xr\n",
    "from dask.distributed import Client\n",
    "from dask_jobqueue import SLURMCluster\n",
    "import numcodecs\n",
    "from xmitgcm import open_mdsdataset\n",
    "import f90nml"
   ]
  },
  {
   "cell_type": "code",
   "execution_count": 2,
   "id": "d0bd9957-8963-4a9d-9d42-70860139566f",
   "metadata": {
    "tags": []
   },
   "outputs": [],
   "source": [
    "base_path = Path(\"/work/n01/n01/fwg/irminger-proj\")\n",
    "run_folder = base_path / \"data/raw/3d-models-200m\""
   ]
  },
  {
   "cell_type": "code",
   "execution_count": null,
   "id": "d1a1f2f9-2c1c-4143-b30c-d9e54265c48b",
   "metadata": {
    "tags": []
   },
   "outputs": [],
   "source": [
    "prefix = [\"a\", \"b\", \"c\", \"d\", \"e\", \"f\"]\n",
    "suffix = [\"standard\", \"control\"]\n",
    "\n",
    "\n",
    "def open_partial_run(suff, pref):\n",
    "    run_name = pref + suff\n",
    "    run_path = run_folder / run_name\n",
    "    print(run_path)\n",
    "    data_nml = f90nml.read(run_path / \"data\")\n",
    "    \n",
    "    delta_t = data_nml[\"parm03\"][\"deltat\"]\n",
    "\n",
    "    ds = open_mdsdataset(\n",
    "        run_path,\n",
    "        prefix=['ZLevelVars', 'IntLevelVars'],\n",
    "        delta_t=delta_t,\n",
    "        geometry='cartesian',\n",
    "    )\n",
    "    return ds\n",
    "\n",
    "partial_run_dict = {suff: [] for suff in suffix}\n",
    "for suff, pref in product(suffix, prefix):\n",
    "    ds = open_partial_run(suff, pref)\n",
    "    partial_run_dict[suff].append(ds)\n",
    "\n",
    "    \n",
    "full_run_dict = {suff: None for suff in suffix}\n",
    "for suff in suffix:\n",
    "    full_run_dict[suff] = xr.concat(partial_run_dict[suff], dim=\"time\")"
   ]
  },
  {
   "cell_type": "code",
   "execution_count": null,
   "id": "3712625f-1872-48f9-aa61-38f120788a7e",
   "metadata": {
    "tags": []
   },
   "outputs": [],
   "source": [
    "def create_encoding_for_ds(ds, clevel=5):\n",
    "    compressor = numcodecs.Blosc(cname=\"zstd\", clevel=clevel, shuffle=-1)\n",
    "    enc = {x: {\"compressor\": compressor} for x in ds}\n",
    "    return enc"
   ]
  },
  {
   "cell_type": "code",
   "execution_count": null,
   "id": "af24a5b5-8769-420c-8181-d690949da906",
   "metadata": {
    "tags": []
   },
   "outputs": [],
   "source": [
    "try:\n",
    "    scluster.close()\n",
    "    client.close()\n",
    "except:\n",
    "    pass\n",
    "\n",
    "log_path = base_path / 'src/post_processing/.tmp/slurm-out'\n",
    "dask_worker_path = base_path / 'src/post_processing/.tmp/dask-worker-space'\n",
    "env_path = base_path / 'irminger-proj/bin/activate'\n",
    "\n",
    "scluster = SLURMCluster(queue='standard',\n",
    "                        account=\"n01-siAMOC\",\n",
    "                        job_cpu=256,\n",
    "                        log_directory=log_path,\n",
    "                        local_directory=dask_worker_path,\n",
    "                        cores=24,\n",
    "                        processes=24,  # Can change this\n",
    "                        memory=\"256 GiB\",\n",
    "                        job_directives_skip= ['#SBATCH --mem='],  \n",
    "                        walltime=\"00:25:00\",\n",
    "                        death_timeout=60,\n",
    "                        interface='hsn0',\n",
    "                        job_extra_directives=[\"--qos=standard\", \"--partition=standard\"],\n",
    "                        job_script_prologue=['module load cray-python',\n",
    "                                'source {}'.format(str(env_path.absolute()))]\n",
    "                    )\n",
    "\n",
    "\n",
    "client = Client(scluster)\n",
    "\n",
    "scluster.adapt(minimum_jobs=1, maximum_jobs=16,\n",
    "               interval=\"1000 ms\", wait_count=30)"
   ]
  },
  {
   "cell_type": "code",
   "execution_count": null,
   "id": "32fb5649-0d4d-449e-b57f-1ccd849133d2",
   "metadata": {
    "tags": []
   },
   "outputs": [],
   "source": [
    "client"
   ]
  },
  {
   "cell_type": "code",
   "execution_count": null,
   "id": "d1fa86e9-bc65-451c-a8c9-fb90e5618203",
   "metadata": {
    "tags": []
   },
   "outputs": [],
   "source": [
    "for suff in suffix:\n",
    "    compressed_path = base_path / f\"data/interim/{suff}.zarr\"\n",
    "    print(compressed_path)\n",
    "    \n",
    "    enc = create_encoding_for_ds(full_run_dict[suff], 8)\n",
    "    \n",
    "    full_run_dict[suff].to_zarr(\n",
    "        compressed_path,\n",
    "        encoding=enc\n",
    "    )"
   ]
  },
  {
   "cell_type": "code",
   "execution_count": null,
   "id": "17f15f48-e2a3-4e9a-96e4-533597809993",
   "metadata": {
    "tags": []
   },
   "outputs": [],
   "source": [
    "scluster.close()\n",
    "client.close()"
   ]
  },
  {
   "cell_type": "markdown",
   "id": "f97a69f3-f624-4252-9021-e06fd3a534f4",
   "metadata": {},
   "source": [
    "## Compress run32"
   ]
  },
  {
   "cell_type": "code",
   "execution_count": 5,
   "id": "5230abeb-19be-49d9-bf9d-05d2649b3c0d",
   "metadata": {
    "tags": []
   },
   "outputs": [],
   "source": [
    "base_path = Path(\"/work/n01/n01/fwg/irminger-proj\")\n",
    "run_folder = base_path / \"data/raw/2d-models\""
   ]
  },
  {
   "cell_type": "code",
   "execution_count": 7,
   "id": "2322c7a6-323d-44bf-a6a8-7e79ef6303f7",
   "metadata": {
    "tags": []
   },
   "outputs": [
    {
     "name": "stdout",
     "output_type": "stream",
     "text": [
      "/work/n01/n01/fwg/irminger-proj/data/raw/2d-models/run32_a\n",
      "/work/n01/n01/fwg/irminger-proj/data/raw/2d-models/run32_b\n",
      "/work/n01/n01/fwg/irminger-proj/data/raw/2d-models/run32_c\n",
      "/work/n01/n01/fwg/irminger-proj/data/raw/2d-models/run32_d\n",
      "/work/n01/n01/fwg/irminger-proj/data/raw/2d-models/run32_e\n",
      "/work/n01/n01/fwg/irminger-proj/data/raw/2d-models/run32_f\n"
     ]
    }
   ],
   "source": [
    "suffix = [\"a\", \"b\", \"c\", \"d\", \"e\", \"f\"]\n",
    "prefix = \"run32_\"\n",
    "\n",
    "\n",
    "def open_partial_run(suff, pref):\n",
    "    run_name = pref + suff\n",
    "    run_path = run_folder / run_name\n",
    "    print(run_path)\n",
    "    data_nml = f90nml.read(run_path / \"../input_data_files_a/data\")\n",
    "    \n",
    "    delta_t = data_nml[\"parm03\"][\"deltat\"]\n",
    "\n",
    "    ds = open_mdsdataset(\n",
    "        run_path,\n",
    "        prefix=['ZLevelVars', 'IntLevelVars'],\n",
    "        delta_t=delta_t,\n",
    "        geometry='cartesian',\n",
    "    )\n",
    "    return ds\n",
    "\n",
    "partial_run_list = list()\n",
    "for suff in suffix:\n",
    "    ds = open_partial_run(suff, prefix)\n",
    "    partial_run_list.append(ds)\n",
    "\n",
    "full_run_ds = xr.concat(partial_run_list, dim=\"time\")"
   ]
  },
  {
   "cell_type": "code",
   "execution_count": 8,
   "id": "206301fc-a23a-4624-b49e-5f8ba2d1dc33",
   "metadata": {
    "tags": []
   },
   "outputs": [],
   "source": [
    "def create_encoding_for_ds(ds, clevel=5):\n",
    "    compressor = numcodecs.Blosc(cname=\"zstd\", clevel=clevel, shuffle=-1)\n",
    "    enc = {x: {\"compressor\": compressor} for x in ds}\n",
    "    return enc"
   ]
  },
  {
   "cell_type": "code",
   "execution_count": 9,
   "id": "1ae063af-58f0-4bdb-8f6e-33ea38cf1ad8",
   "metadata": {
    "tags": []
   },
   "outputs": [
    {
     "data": {
      "text/plain": [
       "<distributed.deploy.adaptive.Adaptive at 0x7f6f5fa42490>"
      ]
     },
     "execution_count": 9,
     "metadata": {},
     "output_type": "execute_result"
    }
   ],
   "source": [
    "try:\n",
    "    scluster.close()\n",
    "    client.close()\n",
    "except:\n",
    "    pass\n",
    "\n",
    "log_path = base_path / 'src/post_processing/.tmp/slurm-out'\n",
    "dask_worker_path = base_path / 'src/post_processing/.tmp/dask-worker-space'\n",
    "env_path = base_path / 'irminger-proj/bin/activate'\n",
    "\n",
    "scluster = SLURMCluster(queue='standard',\n",
    "                        account=\"n01-siAMOC\",\n",
    "                        job_cpu=256,\n",
    "                        log_directory=log_path,\n",
    "                        local_directory=dask_worker_path,\n",
    "                        cores=24,\n",
    "                        processes=24,  # Can change this\n",
    "                        memory=\"256 GiB\",\n",
    "                        job_directives_skip= ['#SBATCH --mem='],  \n",
    "                        walltime=\"00:25:00\",\n",
    "                        death_timeout=60,\n",
    "                        interface='hsn0',\n",
    "                        job_extra_directives=[\"--qos=standard\", \"--partition=standard\"],\n",
    "                        job_script_prologue=['module load cray-python',\n",
    "                                'source {}'.format(str(env_path.absolute()))]\n",
    "                    )\n",
    "\n",
    "\n",
    "client = Client(scluster)\n",
    "\n",
    "scluster.adapt(\n",
    "    minimum_jobs=1,\n",
    "    maximum_jobs=16,\n",
    "    interval=\"1000 ms\",\n",
    "    wait_count=30,\n",
    ")"
   ]
  },
  {
   "cell_type": "code",
   "execution_count": 10,
   "id": "8d2527c0-f07c-484f-b099-106f0aadd274",
   "metadata": {
    "tags": []
   },
   "outputs": [
    {
     "data": {
      "text/html": [
       "<div>\n",
       "    <div style=\"width: 24px; height: 24px; background-color: #e1e1e1; border: 3px solid #9D9D9D; border-radius: 5px; position: absolute;\"> </div>\n",
       "    <div style=\"margin-left: 48px;\">\n",
       "        <h3 style=\"margin-bottom: 0px;\">Client</h3>\n",
       "        <p style=\"color: #9D9D9D; margin-bottom: 0px;\">Client-f0337e17-cc95-11ed-b2fd-b42e99a23237</p>\n",
       "        <table style=\"width: 100%; text-align: left;\">\n",
       "\n",
       "        <tr>\n",
       "        \n",
       "            <td style=\"text-align: left;\"><strong>Connection method:</strong> Cluster object</td>\n",
       "            <td style=\"text-align: left;\"><strong>Cluster type:</strong> dask_jobqueue.SLURMCluster</td>\n",
       "        \n",
       "        </tr>\n",
       "\n",
       "        \n",
       "            <tr>\n",
       "                <td style=\"text-align: left;\">\n",
       "                    <strong>Dashboard: </strong> <a href=\"http://10.253.23.31:8787/status\" target=\"_blank\">http://10.253.23.31:8787/status</a>\n",
       "                </td>\n",
       "                <td style=\"text-align: left;\"></td>\n",
       "            </tr>\n",
       "        \n",
       "\n",
       "        </table>\n",
       "\n",
       "        \n",
       "            <button style=\"margin-bottom: 12px;\" data-commandlinker-command=\"dask:populate-and-launch-layout\" data-commandlinker-args='{\"url\": \"http://10.253.23.31:8787/status\" }'>\n",
       "                Launch dashboard in JupyterLab\n",
       "            </button>\n",
       "        \n",
       "\n",
       "        \n",
       "            <details>\n",
       "            <summary style=\"margin-bottom: 20px;\"><h3 style=\"display: inline;\">Cluster Info</h3></summary>\n",
       "            <div class=\"jp-RenderedHTMLCommon jp-RenderedHTML jp-mod-trusted jp-OutputArea-output\">\n",
       "    <div style=\"width: 24px; height: 24px; background-color: #e1e1e1; border: 3px solid #9D9D9D; border-radius: 5px; position: absolute;\">\n",
       "    </div>\n",
       "    <div style=\"margin-left: 48px;\">\n",
       "        <h3 style=\"margin-bottom: 0px; margin-top: 0px;\">SLURMCluster</h3>\n",
       "        <p style=\"color: #9D9D9D; margin-bottom: 0px;\">ce1d8e0f</p>\n",
       "        <table style=\"width: 100%; text-align: left;\">\n",
       "            <tr>\n",
       "                <td style=\"text-align: left;\">\n",
       "                    <strong>Dashboard:</strong> <a href=\"http://10.253.23.31:8787/status\" target=\"_blank\">http://10.253.23.31:8787/status</a>\n",
       "                </td>\n",
       "                <td style=\"text-align: left;\">\n",
       "                    <strong>Workers:</strong> 0\n",
       "                </td>\n",
       "            </tr>\n",
       "            <tr>\n",
       "                <td style=\"text-align: left;\">\n",
       "                    <strong>Total threads:</strong> 0\n",
       "                </td>\n",
       "                <td style=\"text-align: left;\">\n",
       "                    <strong>Total memory:</strong> 0 B\n",
       "                </td>\n",
       "            </tr>\n",
       "            \n",
       "        </table>\n",
       "\n",
       "        <details>\n",
       "            <summary style=\"margin-bottom: 20px;\">\n",
       "                <h3 style=\"display: inline;\">Scheduler Info</h3>\n",
       "            </summary>\n",
       "\n",
       "            <div style=\"\">\n",
       "    <div>\n",
       "        <div style=\"width: 24px; height: 24px; background-color: #FFF7E5; border: 3px solid #FF6132; border-radius: 5px; position: absolute;\"> </div>\n",
       "        <div style=\"margin-left: 48px;\">\n",
       "            <h3 style=\"margin-bottom: 0px;\">Scheduler</h3>\n",
       "            <p style=\"color: #9D9D9D; margin-bottom: 0px;\">Scheduler-85bab0d0-ea4b-4bf9-90af-eb21bf5b1a16</p>\n",
       "            <table style=\"width: 100%; text-align: left;\">\n",
       "                <tr>\n",
       "                    <td style=\"text-align: left;\">\n",
       "                        <strong>Comm:</strong> tcp://10.253.23.31:46471\n",
       "                    </td>\n",
       "                    <td style=\"text-align: left;\">\n",
       "                        <strong>Workers:</strong> 0\n",
       "                    </td>\n",
       "                </tr>\n",
       "                <tr>\n",
       "                    <td style=\"text-align: left;\">\n",
       "                        <strong>Dashboard:</strong> <a href=\"http://10.253.23.31:8787/status\" target=\"_blank\">http://10.253.23.31:8787/status</a>\n",
       "                    </td>\n",
       "                    <td style=\"text-align: left;\">\n",
       "                        <strong>Total threads:</strong> 0\n",
       "                    </td>\n",
       "                </tr>\n",
       "                <tr>\n",
       "                    <td style=\"text-align: left;\">\n",
       "                        <strong>Started:</strong> Just now\n",
       "                    </td>\n",
       "                    <td style=\"text-align: left;\">\n",
       "                        <strong>Total memory:</strong> 0 B\n",
       "                    </td>\n",
       "                </tr>\n",
       "            </table>\n",
       "        </div>\n",
       "    </div>\n",
       "\n",
       "    <details style=\"margin-left: 48px;\">\n",
       "        <summary style=\"margin-bottom: 20px;\">\n",
       "            <h3 style=\"display: inline;\">Workers</h3>\n",
       "        </summary>\n",
       "\n",
       "        \n",
       "\n",
       "    </details>\n",
       "</div>\n",
       "\n",
       "        </details>\n",
       "    </div>\n",
       "</div>\n",
       "            </details>\n",
       "        \n",
       "\n",
       "    </div>\n",
       "</div>"
      ],
      "text/plain": [
       "<Client: 'tcp://10.253.23.31:46471' processes=0 threads=0, memory=0 B>"
      ]
     },
     "execution_count": 10,
     "metadata": {},
     "output_type": "execute_result"
    }
   ],
   "source": [
    "client"
   ]
  },
  {
   "cell_type": "code",
   "execution_count": 11,
   "id": "a7bbe32f-0351-4423-a084-d02be6b7fa77",
   "metadata": {
    "tags": []
   },
   "outputs": [
    {
     "name": "stdout",
     "output_type": "stream",
     "text": [
      "/work/n01/n01/fwg/irminger-proj/data/interim/run32.zarr\n"
     ]
    },
    {
     "data": {
      "text/plain": [
       "<xarray.backends.zarr.ZarrStore at 0x7f70a9646900>"
      ]
     },
     "execution_count": 11,
     "metadata": {},
     "output_type": "execute_result"
    }
   ],
   "source": [
    "compressed_path = base_path / f\"data/interim/run32.zarr\"\n",
    "print(compressed_path)\n",
    "    \n",
    "enc = create_encoding_for_ds(full_run_ds, 8)\n",
    "    \n",
    "full_run_ds.to_zarr(\n",
    "    compressed_path,\n",
    "    encoding=enc\n",
    ")"
   ]
  },
  {
   "cell_type": "code",
   "execution_count": 12,
   "id": "15bd43a5-1db2-4609-985f-d0cd665568bd",
   "metadata": {
    "tags": []
   },
   "outputs": [],
   "source": [
    "scluster.close()\n",
    "client.close()"
   ]
  }
 ],
 "metadata": {
  "kernelspec": {
   "display_name": "Python 3 (ipykernel)",
   "language": "python",
   "name": "python3"
  },
  "language_info": {
   "codemirror_mode": {
    "name": "ipython",
    "version": 3
   },
   "file_extension": ".py",
   "mimetype": "text/x-python",
   "name": "python",
   "nbconvert_exporter": "python",
   "pygments_lexer": "ipython3",
   "version": "3.8.5"
  }
 },
 "nbformat": 4,
 "nbformat_minor": 5
}
